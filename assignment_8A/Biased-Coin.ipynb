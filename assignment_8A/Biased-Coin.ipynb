{
 "cells": [
  {
   "cell_type": "markdown",
   "id": "0d97ac60-3e53-4f81-8cf8-9ca75a59772e",
   "metadata": {},
   "source": [
    "## Simulating a Biased Coin Flip with NumPy\n",
    "\n",
    "In many physical simulations, we need to decide whether an event occurs based on a **fixed probability**.  \n",
    "For example, in **radioactive decay**, each atom has a certain probability of decaying within a given time step.  \n",
    "\n",
    "This is similar to flipping a **biased coin**, where:\n",
    "- The probability of **\"heads\"** represents the chance that an event (e.g., decay) happens.\n",
    "- The probability of **\"tails\"** represents the chance that nothing happens.\n",
    "\n",
    "### **How to Simulate a Biased Coin Flip?**\n",
    "- We generate a **random number** between **0 and 1**.\n",
    "- If the random number is **less than $P$**, we say **\"Heads\"** (event happens).\n",
    "- Otherwise, we say **\"Tails\"** (event does not happen).\n",
    "\n",
    "Below, we use **NumPy’s default random generator (`default_rng()`)** to simulate a biased coin flip.\n"
   ]
  },
  {
   "cell_type": "code",
   "execution_count": 2,
   "id": "630e78f9-49bc-468b-835e-d3ca90d3ee10",
   "metadata": {},
   "outputs": [
    {
     "name": "stdout",
     "output_type": "stream",
     "text": [
      "Biased Coin Flips: ['Tails', 'Tails', 'Tails', 'Tails', 'Heads']\n"
     ]
    }
   ],
   "source": [
    "import numpy as np\n",
    "\n",
    "# Set a fixed seed for reproducibility\n",
    "rng = np.random.default_rng(42)\n",
    "\n",
    "# Probability of \"Heads\" (event occurring)\n",
    "P = 0.2  # Example: 20% probability\n",
    "\n",
    "# Number of flips\n",
    "N = 5\n",
    "\n",
    "# Perform N biased coin flips\n",
    "flips = [\"Heads\" if rng.random() < P else \"Tails\" for _ in range(N)]\n",
    "\n",
    "# Display results\n",
    "print(\"Biased Coin Flips:\", flips)\n"
   ]
  },
  {
   "cell_type": "code",
   "execution_count": null,
   "id": "cf6eeacc-95fc-460b-9fdc-abae9090d116",
   "metadata": {},
   "outputs": [],
   "source": []
  }
 ],
 "metadata": {
  "kernelspec": {
   "display_name": "Phys377",
   "language": "python",
   "name": "python3"
  },
  "language_info": {
   "codemirror_mode": {
    "name": "ipython",
    "version": 3
   },
   "file_extension": ".py",
   "mimetype": "text/x-python",
   "name": "python",
   "nbconvert_exporter": "python",
   "pygments_lexer": "ipython3",
   "version": "3.11.11"
  }
 },
 "nbformat": 4,
 "nbformat_minor": 5
}

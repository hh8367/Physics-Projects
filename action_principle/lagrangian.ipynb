{
 "cells": [
  {
   "cell_type": "markdown",
   "id": "8b745f0a",
   "metadata": {},
   "source": [
    "# Project: Langrangian formulation of classical mechanics and the Action Principle\n",
    "\n",
    "**Goal:** To develop a thorough understanding of the Lagrangian formulation of classical mechanics, focusing on the origin of the Lagrangian, the Principle of Stationary Action, and the derivation and application of the Euler-Lagrange equations. This project will bridge theoretical understanding with numerical implementation and visualization.\n",
    "\n",
    "---\n",
    "\n",
    "## Part 1: Foundations - The Lagrangian and the Principle of Stationary Action\n",
    "\n",
    "**Objective:** To understand the conceptual origins of the Lagrangian, its connection to established principles, and to rigorously derive the Euler-Lagrange equations from the Principle of Stationary Action.\n",
    "\n",
    "### Task 1.1: The Genesis of the Lagrangian\n",
    "\n",
    "*   **Research and Explain:**\n",
    "    *   Investigate the historical context: How did the concept of the Lagrangian evolve? Briefly touch upon concepts like d'Alembert's Principle and virtual work if they arise in your research.\n",
    "    *   What problem was Lagrangian mechanics trying to solve that Newtonian mechanics handled less elegantly (e.g., systems with constraints, choice of generalized coordinates)?\n",
    "    *   The standard definition: `L = T - V` (Kinetic Energy - Potential Energy).\n",
    "        *   Why this specific form? Is it a fundamental postulate, or can it be motivated?\n",
    "        *   Discuss the concept of **generalized coordinates** (`qᵢ`) and **generalized velocities** (`q̇ᵢ`). How do they simplify the description of complex systems?\n",
    "        *   Provide examples of Lagrangians for simple systems (e.g., free particle, simple harmonic oscillator, simple pendulum) in appropriate generalized coordinates.\n",
    "*   **Deliverable:** A written explanation (markdown cells in your notebook) summarizing your findings and understanding. Include the mathematical expressions for the example Lagrangians.\n"
   ]
  },
  {
   "cell_type": "markdown",
   "id": "764d09eb",
   "metadata": {},
   "source": []
  },
  {
   "cell_type": "markdown",
   "id": "5b175d75",
   "metadata": {},
   "source": [
    "\n",
    "### Task 1.2: The Principle of Stationary Action\n",
    "\n",
    "*   **Research and Explain:**\n",
    "    *   Clearly state the **Principle of Stationary Action**. What does \"stationary\" mean in this context? Why is it sometimes called the \"Principle of Least Action,\" and why is \"stationary\" more accurate?\n",
    "    *   Define the **Action functional** `S[q(t)] = ∫ L(q(t), q̇(t), t) dt`.\n",
    "        *   Explain why `S` is a **functional** and not just a function. What are its inputs and outputs?\n",
    "        *   What are the fixed conditions when considering variations of the path (i.e., `δq(t₁)=0` and `δq(t₂)=0`)? Why are these important?\n",
    "*   **Deliverable:** A written explanation (markdown cells) of the Principle of Stationary Action and the Action functional.\n"
   ]
  },
  {
   "cell_type": "markdown",
   "id": "9915ff68",
   "metadata": {},
   "source": [
    "\n",
    "### Task 1.3: Derivation of the Euler-Lagrange Equations\n",
    "\n",
    "*   **Mathematical Derivation:**\n",
    "    *   Starting from the Principle of Stationary Action (`δS = 0`), perform a detailed step-by-step derivation of the Euler-Lagrange equation(s):\n",
    "        `d/dt (∂L / ∂q̇ᵢ) - ∂L / ∂qᵢ = 0`\n",
    "        for each generalized coordinate `qᵢ`.\n",
    "    *   Clearly explain each step, including:\n",
    "        *   How to vary the path: `q(t, α) = q(t, 0) + αη(t)`, where `q(t, 0)` is the true path and `η(t)` is an arbitrary variation function with `η(t₁) = η(t₂) = 0`.\n",
    "        *   How `S` becomes a function of `α`: `S(α)`.\n",
    "        *   The condition for stationarity: `dS/dα |_(α=0) = 0`.\n",
    "        *   The use of integration by parts.\n",
    "        *   The role of the fundamental lemma of calculus of variations (or arguing why the integrand must be zero because `η(t)` is arbitrary).\n",
    "*   **Deliverable:** A detailed, step-by-step mathematical derivation in markdown cells, using LaTeX for equations. Explain the reasoning behind each mathematical manipulation.\n"
   ]
  },
  {
   "cell_type": "markdown",
   "id": "b5adf6e4",
   "metadata": {},
   "source": [
    "\n",
    "---\n",
    "\n",
    "## Part 2: Symmetries and Conservation Laws - Noether's Theorem\n",
    "\n",
    "**Objective:** To understand and prove Noether's Theorem, establishing the fundamental link between continuous symmetries of the Lagrangian and conserved quantities.\n",
    "\n",
    "### Task 2.1: Understanding Continuous Symmetries\n",
    "\n",
    "*   **Define Continuous Symmetry:** What does it mean for a Lagrangian (or Action) to possess a continuous symmetry?\n",
    "    *   Consider transformations of coordinates `qᵢ → q'ᵢ = qᵢ + δqᵢ` (and potentially time `t → t' = t + δt`, though for this project, focus on symmetries involving `q` first).\n",
    "    *   A symmetry exists if the Lagrangian changes by at most a total time derivative of some function `F(q,t)`: `L(q', q̇', t') = L(q, q̇, t) + dF/dt`. If `dF/dt = 0`, it's a strict invariance.\n",
    "*   **Infinitesimal Transformations:** Focus on infinitesimal transformations. Let the transformation depend on a continuous parameter `ε`:\n",
    "    *   `qᵢ(t) → q'ᵢ(t, ε) = qᵢ(t) + ε Kᵢ(q, t) + O(ε²)`\n",
    "    *   `t → t'(t, ε) = t + ε T(q, t) + O(ε²)` (For simplicity, you can initially assume `T=0`, meaning time is not transformed).\n",
    "    *   The functions `Kᵢ` and `T` are called the generators of the transformation.\n",
    "*   **Condition for Symmetry:** The action `S` must be invariant under this transformation, or more precisely, `dS/dε |_(ε=0) = 0` if the Lagrangian is strictly invariant. If `L` changes by a total time derivative, the condition on `S` still leads to the same conservation law.\n",
    "*   **Deliverable:** A written explanation (markdown cells) defining continuous symmetries and the setup for infinitesimal transformations.\n"
   ]
  },
  {
   "cell_type": "markdown",
   "id": "0efb8731",
   "metadata": {},
   "source": [
    "\n",
    "### Task 2.2: Proof of Noether's Theorem (First Version - No time transformation)\n",
    "\n",
    "*   **Assumption:** Assume the Lagrangian `L(q, q̇, t)` is invariant under an infinitesimal transformation of the coordinates only:\n",
    "    `qᵢ(t) → q'ᵢ(t) = qᵢ(t) + ε Kᵢ(q(t))`\n",
    "    (where `Kᵢ` might depend on `q` but not explicitly on `t` or `q̇` for the simplest form).\n",
    "    This implies `L(q', q̇') = L(q, q̇)` up to `O(ε²)`.\n",
    "*   **Derivation Steps:**\n",
    "    1.  Consider the change in the Lagrangian `δL = L(q', q̇') - L(q, q̇)`. Expand this to first order in `ε`:\n",
    "        `δL ≈ ε [ Σᵢ (∂L/∂qᵢ)Kᵢ + Σᵢ (∂L/∂q̇ᵢ)K̇ᵢ ]`\n",
    "        (where `K̇ᵢ = dKᵢ/dt`).\n",
    "    2.  Since `L` is invariant, `δL = 0` (to first order in `ε`).\n",
    "    3.  Substitute the Euler-Lagrange equations (`∂L/∂qᵢ = d/dt (∂L/∂q̇ᵢ)`) into the expression for `δL`.\n",
    "    4.  Show that this leads to the conservation of a quantity `J`:\n",
    "        `dJ/dt = 0`, where `J = Σᵢ (∂L/∂q̇ᵢ)Kᵢ`.\n",
    "*   **Deliverable:** A detailed, step-by-step mathematical derivation of Noether's theorem for symmetries involving only coordinate transformations, in markdown cells using LaTeX.\n"
   ]
  },
  {
   "cell_type": "markdown",
   "id": "c5c97036",
   "metadata": {},
   "source": [
    "\n",
    "### Task 2.3: (Optional) Generalization of Noether's Theorem\n",
    "\n",
    "*   **Consideration:** Briefly discuss or attempt to derive the more general form of Noether's theorem where:\n",
    "    *   The Lagrangian is not strictly invariant but changes by a total time derivative: `δL = ε dF/dt`.\n",
    "    *   The transformation also involves time: `t → t' = t + ε T`.\n",
    "    *   The conserved quantity in this more general case. (This is more advanced but good to be aware of).\n",
    "*   **Deliverable:** Markdown notes on the generalized theorem.\n"
   ]
  },
  {
   "cell_type": "markdown",
   "id": "63830ffe",
   "metadata": {},
   "source": [
    "\n",
    "### Task 2.4: Examples of Noether's Theorem\n",
    "\n",
    "*   Apply the derived theorem to simple Lagrangians:\n",
    "    1.  **Time Translation Invariance:** If `L` does not explicitly depend on `t` (`∂L/∂t = 0`), show that this corresponds to a symmetry and derive the conserved quantity (Energy/Hamiltonian). (Hint: Consider `Kᵢ = q̇ᵢ` related to `δt`).\n",
    "    2.  **Spatial Translation Invariance (for a free particle):** If `L = (1/2)m Σᵢ q̇ᵢ²` (and no potential depending on `qᵢ`), show that invariance under `qⱼ → qⱼ + ε` (for a specific `j`) leads to conservation of momentum `pⱼ`.\n",
    "    3.  **Rotational Invariance (for a central potential):** If `L = (1/2)m(ṙ² + r²θ̇²) - V(r)`, show that invariance under `θ → θ + ε` leads to conservation of angular momentum.\n",
    "*   **Deliverable:** For each example, state the symmetry transformation, show the Lagrangian's invariance (or how it changes by a total derivative), identify `Kᵢ`, and derive the corresponding conserved quantity using the Noether charge formula.\n"
   ]
  },
  {
   "cell_type": "markdown",
   "id": "a8f20af1",
   "metadata": {},
   "source": [
    "\n",
    "---\n",
    "\n",
    "## Part 3: Application & Numerical Exploration (Renumbered from Part 2)\n",
    "\n",
    "**Objective:** To apply the derived Euler-Lagrange equations to specific physical systems and to numerically verify the Principle of Stationary Action by finding paths that minimize the discretized action.\n",
    "\n",
    "*(The tasks from the previous \"Part 2\" (Free Particle, SHO) would now become Task 3.1, Task 3.2, etc. I'll omit them here for brevity but you'd slot them in.)*\n",
    "\n",
    "### Task 3.1: System 1 - Free Particle in 1D\n",
    "    *   ... (as before) ...\n",
    "### Task 3.2: System 2 - Simple Harmonic Oscillator (1D)\n",
    "    *   ... (as before) ...\n",
    "\n",
    "---\n",
    "\n",
    "## Part 4: Extending to More Complex Systems (Further Exploration) (Renumbered from Part 3)\n",
    "\n",
    "**Objective:** Apply the learned principles to systems where analytical solutions might be harder or for systems in higher dimensions.\n",
    "\n",
    "### Task 4.1: System 3 - Particle in a 1D Potential `V(x)`\n",
    "    *   ... (as before) ...\n",
    "### Task 4.2: System 4 - Projectile Motion in 2D (Optional)\n",
    "    *   ... (as before) ...\n",
    "\n",
    "---\n",
    "\n",
    "## Reflection and Further Questions\n",
    "\n",
    "*   After completing these tasks, reflect on the power and elegance of the Lagrangian formalism.\n",
    "*   How does Noether's Theorem provide a deeper understanding of the laws of physics?\n",
    "*   What are the advantages of using the Principle of Stationary Action over directly solving Newton's laws for complex systems?\n",
    "*   What are the limitations of this classical approach?\n",
    "\n",
    "---\n",
    "\n",
    "**Python Libraries to Use:**\n",
    "*   `numpy`: For numerical arrays and math operations.\n",
    "*   `scipy.optimize.minimize`: For finding the path that minimizes the action.\n",
    "*   `scipy.integrate.solve_ivp`: For numerically solving the Euler-Lagrange ODEs.\n",
    "*   `matplotlib.pyplot`: For plotting.\n",
    "*   `sympy` (Optional, for symbolic derivation of E-L equations or checking Noether current calculations if desired).\n",
    "\n",
    "This revised structure places a significant emphasis on the theoretical underpinnings, particularly Noether's Theorem, before moving to the numerical applications."
   ]
  }
 ],
 "metadata": {
  "kernelspec": {
   "display_name": "Phys377",
   "language": "python",
   "name": "python3"
  },
  "language_info": {
   "name": "python",
   "version": "3.11.11"
  }
 },
 "nbformat": 4,
 "nbformat_minor": 5
}

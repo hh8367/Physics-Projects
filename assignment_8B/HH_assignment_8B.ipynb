{
 "cells": [
  {
   "cell_type": "markdown",
   "id": "2f63d296",
   "metadata": {},
   "source": [
    "# Assignment 8B - Hasanat Hasan"
   ]
  },
  {
   "cell_type": "markdown",
   "id": "dd65fc51",
   "metadata": {},
   "source": [
    "## Problem 1: Mean Value Method For Integration\n",
    "### Consider the integral:\n",
    "$$\n",
    "I = \\int_0^2 \\sin^2\\left[ \\frac{1}{x(2-x)}\\right]dx\n",
    "$$\n",
    "### a) Estimate the value of this integral using the mean value method with N = 10,000 points"
   ]
  },
  {
   "cell_type": "markdown",
   "id": "4a0a733a",
   "metadata": {},
   "source": [
    "## Explanation and Strategy:\n",
    "### Integrals of non-analytic, and high dimensional functions are difficult to evaluate, and therefore need strategies to bypass this restriction. We can apply the mean-value method using a uniform sampling to obtain the following approximation:\n",
    "\n",
    "### Let $p(x) = \\frac{1}{b-a}, \\forall x\\in[a,b]$\n",
    "$$\n",
    "\\begin{align}\n",
    "I &= \\int_{V}f(x)dx = (b-a)\\int_{V} \\left(\\frac{1}{b-a}\\right)f(x)dx\\\\\n",
    "  &= (b-a)\\int_{V} p(x) f(x)dx\\\\\n",
    "  &= (b-a)\\lim_{N\\rightarrow \\infty} \\frac{1}{N} \\sum_{i=1}^N f(x_i)\\\\\n",
    "  &\\approx (b-a) \\frac{1}{N} \\sum_{i=1}^N f(x_i)\n",
    "\\end{align}\n",
    "$$\n",
    "\n",
    "### thus, by sampling $x_i$ from the uniform distribution, we can obtain the above estimation."
   ]
  },
  {
   "cell_type": "markdown",
   "id": "d6af8ff0",
   "metadata": {},
   "source": [
    "## Utilities"
   ]
  },
  {
   "cell_type": "code",
   "execution_count": 78,
   "id": "f24512b8",
   "metadata": {},
   "outputs": [],
   "source": [
    "import matplotlib.pyplot as plt\n",
    "import numpy as np\n",
    "import numpy as np\n",
    "\n",
    "def MonteCarlo_integrate(integrand: callable,\n",
    "                         start_point: float,\n",
    "                         end_point: float,\n",
    "                         x_array: np.ndarray):\n",
    "    ''' \n",
    "    Estimates integrals of non-analytic functions using \\n\n",
    "    Monte-Carlo Integration with uniform sampling.\n",
    "    \n",
    "    Note: Input to integrand function must be an array.\\n \n",
    "    this code efficent computes the itergal using vectorized operations\n",
    "    '''                         \n",
    "    x_i: np.ndarray = x_array\n",
    "    Fx_i = integrand(x_i)\n",
    "    estimate = (end_point- start_point) * np.mean(Fx_i)\n",
    "    return estimate\n",
    "\n",
    "def Fx_sqr(x_vals: np.ndarray) -> np.ndarray:\n",
    "    \"\"\"\n",
    "    Vectorized calculation of f(x)^2 = [sin^2([x(2-x)]^-1)]^2\n",
    "    \"\"\"\n",
    "    ux_vals = 1 / (x_vals * (2 - x_vals))\n",
    "    fx = np.sin(ux_vals)**2\n",
    "    return fx**2\n",
    "\n",
    "def Fx(x_vals: np.ndarray) -> np.ndarray:\n",
    "    \"\"\"\n",
    "    Vectorized calculation of f(x) = sin^2([x(2-x)]^-1)\n",
    "    \"\"\"\n",
    "    ux_vals = 1 / (x_vals * (2 - x_vals))\n",
    "    fx = np.sin(ux_vals)**2\n",
    "    return fx \n",
    "\n",
    "def calc_stdev(start_point: float,\n",
    "               end_point: float,\n",
    "               samples: int,\n",
    "               expected_val: float,\n",
    "               expected_square: float):\n",
    "    ''' \n",
    "    Calculates the standard deviation in the integral estimate\n",
    "    '''\n",
    "    exp_val: float = expected_val\n",
    "    exp_sq: float = expected_square\n",
    "    coeff: float = (end_point-start_point)/(np.sqrt(samples)) \n",
    "    stdev: float = coeff * np.sqrt(exp_sq - (exp_val)**2 )\n",
    "    return stdev\n"
   ]
  },
  {
   "cell_type": "markdown",
   "id": "a3951546",
   "metadata": {},
   "source": [
    "# Solution\n"
   ]
  },
  {
   "cell_type": "code",
   "execution_count": 85,
   "id": "76a98260",
   "metadata": {},
   "outputs": [
    {
     "name": "stdout",
     "output_type": "stream",
     "text": [
      "Mean Value estimate: 1.4420287576059658\n"
     ]
    }
   ],
   "source": [
    "a = 0\n",
    "b = 2\n",
    "samples = 10_000\n",
    "x_array = np.random.uniform(a, b, samples)\n",
    "integral = MonteCarlo_integrate(Fx, a, b, x_array)\n",
    "integral_sqr = MonteCarlo_integrate(Fx_sqr,a,b,x_array)\n",
    "print(\"Mean Value estimate:\", integral)"
   ]
  },
  {
   "cell_type": "markdown",
   "id": "d731d3d0",
   "metadata": {},
   "source": [
    "### (b) Evaluate the error in your estimation."
   ]
  },
  {
   "cell_type": "code",
   "execution_count": 89,
   "id": "43f73449",
   "metadata": {},
   "outputs": [
    {
     "name": "stdout",
     "output_type": "stream",
     "text": [
      "Mean Value estimate: 1.445633987403732\n",
      "stdev:  0.005327341258592608\n"
     ]
    }
   ],
   "source": [
    "a = 0\n",
    "b = 2\n",
    "samples = 10_000\n",
    "x_array = np.random.uniform(a, b, samples)\n",
    "integral = MonteCarlo_integrate(Fx, a, b, x_array)\n",
    "integral_sqr = MonteCarlo_integrate(Fx_sqr,a,b,x_array)\n",
    "print(\"Mean Value estimate:\", integral)\n",
    "\n",
    "expected_val = (1/(b-a)) * integral\n",
    "expected_sq  = (1/(b-a)) * integral_sqr\n",
    "\n",
    "stdev = calc_stdev(a,b,samples,expected_val,expected_sq)\n",
    "print(\"stdev: \", stdev)\n"
   ]
  }
 ],
 "metadata": {
  "kernelspec": {
   "display_name": "Phys377",
   "language": "python",
   "name": "python3"
  },
  "language_info": {
   "codemirror_mode": {
    "name": "ipython",
    "version": 3
   },
   "file_extension": ".py",
   "mimetype": "text/x-python",
   "name": "python",
   "nbconvert_exporter": "python",
   "pygments_lexer": "ipython3",
   "version": "3.11.11"
  }
 },
 "nbformat": 4,
 "nbformat_minor": 5
}

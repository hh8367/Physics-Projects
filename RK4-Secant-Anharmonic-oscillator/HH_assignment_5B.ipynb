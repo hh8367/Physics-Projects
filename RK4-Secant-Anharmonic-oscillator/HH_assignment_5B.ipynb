{
 "cells": [
  {
   "cell_type": "markdown",
   "metadata": {},
   "source": [
    "# Assignment 5B- Hasanat Hasan"
   ]
  },
  {
   "cell_type": "markdown",
   "metadata": {},
   "source": [
    "## Problem 1 (100 points): Anharmonic Oscillator.\n",
    "#### Consider the Schrodinger equation for a particle of mass m in the anharmonic potential $V(x) = V_0 \\frac{ x^4 }{ a^4 }$\n",
    "#### where $V_0$ and $a$ are constant. For simplicity, in this exercise $\\frac{V_0}{a^4} = 1/2$.\n",
    "$$\n",
    "\\vdots\n",
    "$$"
   ]
  },
  {
   "cell_type": "markdown",
   "metadata": {},
   "source": [
    "## Converting to two 1st order DEs\n",
    "#### $\\psi$ is $L_2$ integrable, thus it is well behaved and decays at $x = \\pm \\infty$. Therefore the boundary conditions are:\n",
    "$$\n",
    " \\psi(x \\rightarrow \\pm \\infty) = 0\n",
    "$$\n",
    "#### Reformulating as two 1st order DEs:\n",
    "$$\n",
    "-\\frac{1}{2}\\frac{d^2\\psi}{dx^2} + V(x)\\psi(x) = E\\psi(x)\n",
    "$$\n",
    "$$\n",
    "\\frac{d^2\\psi}{dx^2}  = -2E\\psi(x) + 2V(x)\\psi(x)\n",
    "$$\n",
    "\n",
    "#### Redefining the following:\n",
    "$$\n",
    "\\frac{d\\psi}{dx} = \\phi, \\frac{d\\phi}{dx} = -2E\\psi(x) + 2V(x)\\psi(x) = 2 \\left( V(x) - E \\right)\\psi(x)\n",
    "$$\n",
    "#### The shooting method can approximate one 2nd order BVP using 2 IVPs. Our Initial conditions: $\\psi(-Na) = 0$ and $\\frac{d\\psi}{dx} = \\alpha$. Lets define: $f(E_0) = \\psi_{RK4}(Na) - \\psi(Na)$ which is obtained from RK4. Then define \n",
    "$$\n",
    "f(E_0) = \\psi_{RK4}(Na) - \\psi(Na) = 0\\\\\n",
    "f(E_0) =  \\psi_{RK4}(Na) = 0\n",
    "$$\n",
    "#### we want to find the $E_0$ such that $f(E_0) = 0$"
   ]
  },
  {
   "cell_type": "markdown",
   "metadata": {},
   "source": [
    "#### a) (30 points) Use Simpson’s method to calculate the relevant numerical integral in the WKB formula\n",
    "$$\n",
    "B = \\int_{-1}^{1} ds \\sqrt{1-s^4}\n",
    "$$\n",
    "#### and obtain the corresponding WKB approximations to the eigenvalues:\n",
    "$$\n",
    "E_n \\sim \\frac{1}{2} \\left( \\pi \\frac{n +1/2}{\\int_{-1}^{1}dx\\sqrt{1-s^4}} \\right)^{4/3}, n\\in \\mathbb{N}\n",
    "$$\n"
   ]
  },
  {
   "cell_type": "markdown",
   "metadata": {},
   "source": [
    "# Utilities Cell"
   ]
  },
  {
   "cell_type": "code",
   "execution_count": 12,
   "metadata": {},
   "outputs": [],
   "source": [
    "import matplotlib.pyplot as plt\n",
    "import numpy as np\n",
    "\n",
    "def WKB_integrand(s: float):\n",
    "    return np.sqrt(1-s**4)\n",
    "    \n",
    "def simpson_integral_approx(integrand ,start_point: float, end_point: float, slices: int)->float:\n",
    "    ''' \n",
    "    using simpsons approximation for the integrand in 2a:\n",
    "\n",
    "    parameters:\n",
    "    ----------\n",
    "    integrand: function. input function to approximate the integral\n",
    "\n",
    "    start_point: float. starting point in its interval of integration\n",
    "\n",
    "    end_point: end point of the interval of integration\n",
    "\n",
    "    slices: int. number of subdivsions to use for the approximation\n",
    "\n",
    "    returns:\n",
    "    --------\n",
    "    integral: float\n",
    "    '''\n",
    "    # Check that the number of slices is even\n",
    "    assert slices % 2 == 0, f\"The number of slices must be even. Got {slices}.\" \n",
    "\n",
    "    # initializing f(a) and f(b), and height of trapezoid:\n",
    "    f_a = integrand(start_point)\n",
    "    # print(f\"{f_a = }\") \n",
    "    f_b = integrand(end_point)\n",
    "    # print(f\"{f_b = }\")\n",
    "    interval = end_point - start_point\n",
    "    height = interval / slices\n",
    "    \n",
    "    # calculating the terms of the intergal approximation:\n",
    "    integral_term1 = (height/3) * ( f_a + f_b )\n",
    "    \n",
    "    # second term with summation\n",
    "    integral_term2 = 0\n",
    "    for idx in range(1,(int(slices/2) + 1)):\n",
    "        integral_term2 += (height/3) * 4 * (integrand( start_point + height * (2*idx -1)))\n",
    "    \n",
    "    # thrid term with summation\n",
    "    integral_term3 = 0\n",
    "    for idx in range(1,(int(slices/2))):\n",
    "        integral_term3 += (height/3) * 2 * (integrand( start_point + 2*idx*height ))\n",
    "    \n",
    "    # approximation with simpsons rule:\n",
    "    integral = integral_term1+integral_term2+integral_term3\n",
    "    return integral\n",
    "\n",
    "def trapez_approx(start_val, end_val, function_vals):\n",
    "    # using the trapezoidal rule: \n",
    "    # I(a,b) = h( 1/2(f(a) + f(b) ) + \\sum_{k=1}^{N-1} f(a+kh) )\n",
    "\n",
    "    # setting up initial values:\n",
    "    f_a = start_val # velocity_vals[0] # start point\n",
    "    f_b = end_val #velocity_vals[-1] # end point\n",
    "    # total_time = time_vals[-1] - time_vals[0] \n",
    "    height = 1\n",
    "    integral = height * (1/2)*( f_a + f_b)\n",
    "\n",
    "    for i, value in enumerate(function_vals[:-1]):\n",
    "        # index = height*(i+1) # height = 1 for our case\n",
    "        integral +=  height * (value)\n",
    "\n",
    "    return integral\n",
    "\n",
    "def wkb_energy(B: float, energy_label: int):\n",
    "    n = energy_label\n",
    "    return (1/2) * ( np.pi*(n + 1/2)/(B) )**(4/3)\n",
    "\n",
    "def calculate_k1(deriv_func, time: float, input: float | np.ndarray, height: float)->float:    \n",
    "    ''' \n",
    "    Calculates k1 = f( t,y(t) )h\n",
    "    '''\n",
    "    return deriv_func( input, time) * height\n",
    "\n",
    "def calculate_k2(deriv_func, time: float, input: float | np.ndarray, height: float, k1: float | np.ndarray)->float:\n",
    "    ''' \n",
    "    Calculates k2 = f( t + h/2, y(t) + k1/2 )h\n",
    "    '''\n",
    "    y = input+(k1/2)\n",
    "    t = time+(height/2) \n",
    "    return deriv_func( y, t) * height\n",
    "\n",
    "def calculate_k3(deriv_func, time: float, input: float | np.ndarray, height: float, k2: float | np.ndarray)->float:\n",
    "    ''' \n",
    "    Calculates k3 = f( t+h/2, y(t)+k2/2 )h\n",
    "    '''\n",
    "    y = input+(k2/2)\n",
    "    t = time+(height/2) \n",
    "    return deriv_func( y, t) * height\n",
    "\n",
    "def calculate_k4(deriv_func, time: float, input: float | np.ndarray, height: float, k3: float | np.ndarray)->float:\n",
    "    ''' \n",
    "    Calculates k4 = f( t+h/2, y(t)+k3/2 )h\n",
    "    '''\n",
    "    y = input+(k3)\n",
    "    t = time+(height) \n",
    "    return deriv_func( y, t) * height\n",
    "\n",
    "def RK4_approx(deriv_func, initial_vector: list | np.ndarray, final_time: float, num_steps: int):\n",
    "\n",
    "    # initialing variables:\n",
    "    t_0: float = initial_vector[0] \n",
    "    step_size: float = (final_time-t_0)/num_steps\n",
    "    t_array: np.ndarray  = np.arange(t_0, final_time + step_size, step_size)\n",
    "    solution_list: list = [initial_vector[1:]] \n",
    "\n",
    "    y = np.array(initial_vector[1:])\n",
    "    for t_i in t_array[:-1]:\n",
    "        k1 = calculate_k1(deriv_func, t_i, y, step_size)\n",
    "        k2 = calculate_k2(deriv_func, t_i, y, step_size, k1)\n",
    "        k3 = calculate_k3(deriv_func, t_i, y, step_size, k2)\n",
    "        k4 = calculate_k4(deriv_func, t_i, y, step_size, k3)\n",
    "        y = y + (1/6) * (k1 + 2*k2 + 2*k3 + k4)\n",
    "        solution_list.append(y)\n",
    "\n",
    "    return solution_list, t_array\n",
    "\n",
    "def secant_method(original_func: callable, \n",
    "                  initial_vector: np.ndarray, \n",
    "                  tolerance: float, \n",
    "                  max_iter: int = 1000):\n",
    "\n",
    "    f = original_func\n",
    "    x_prev = initial_vector[0]\n",
    "    x_n = initial_vector[1]\n",
    "    \n",
    "    for i in range(max_iter):\n",
    "        # initializing guesses:\n",
    "        f_prev = f(x_prev)\n",
    "        f_n = f(x_n)\n",
    "        # print(f\"f({x_n}) = {f_n},\")\n",
    "        if np.abs(f_n) < tolerance:  # Check for convergence\n",
    "            print(f\"Root found: {x_n} after {i+1} iterations\")\n",
    "            return x_n\n",
    "        \n",
    "        # Update step\n",
    "        x_new = x_n - f_n * (x_n - x_prev) / (f_n - f_prev)\n",
    "\n",
    "        # Update for next iteration\n",
    "        x_prev = x_n\n",
    "        x_n = x_new\n",
    "    \n",
    "    print(\"Method did not converge within the maximum number of iterations.\")\n",
    "    return None\n"
   ]
  },
  {
   "cell_type": "markdown",
   "metadata": {},
   "source": [
    "# Part (a) solutions:"
   ]
  },
  {
   "cell_type": "code",
   "execution_count": 13,
   "metadata": {},
   "outputs": [
    {
     "name": "stdout",
     "output_type": "stream",
     "text": [
      "n = 0, E = 0.4335822716156243\n",
      "n = 1, E = 1.8760015347916323\n",
      "n = 2, E = 3.7070762768407994\n",
      "n = 3, E = 5.805891333695707\n",
      "n = 4, E = 8.116987222347813\n",
      "n = 5, E = 10.607061736666619\n",
      "n = 6, E = 13.253461457997547\n"
     ]
    }
   ],
   "source": [
    "# initialize constants\n",
    "start_i = -1\n",
    "final_f = 1\n",
    "slices = 1000\n",
    "\n",
    "# calculate the B integral:\n",
    "B = simpson_integral_approx(WKB_integrand, start_i, final_f,slices)\n",
    "\n",
    "# calculate the WKB approximation of energy:\n",
    "wkb_approx_energies=[]\n",
    "for i in range(7):\n",
    "    energy = wkb_energy(B, i)\n",
    "    wkb_approx_energies.append(energy)\n",
    "    print(f\"n = {i}, E = {energy}\")\n"
   ]
  },
  {
   "cell_type": "markdown",
   "metadata": {},
   "source": [
    "### My implementation found the energies to be:\n",
    "### n = 0, E = 0.4335822716156243\n",
    "### n = 1, E = 1.8760015347916323\n",
    "### n = 2, E = 3.7070762768407994\n",
    "### n = 3, E = 5.805891333695707\n",
    "### n = 4, E = 8.116987222347813\n",
    "### n = 5, E = 10.607061736666619\n",
    "### n = 6, E = 13.253461457997547"
   ]
  },
  {
   "cell_type": "markdown",
   "metadata": {},
   "source": [
    "### (b) (50 points) Start from one of the boundaries —in a similar fashion as in the example of theinfinite square well discussed in class.\n",
    "### Calculate the eigenfunctions and the eigenvalues of the problem for n = 0,1,...,6 (for simplicity, you are not required to normalize the wavefunctions in this exercise)"
   ]
  },
  {
   "cell_type": "code",
   "execution_count": 14,
   "metadata": {},
   "outputs": [
    {
     "name": "stdout",
     "output_type": "stream",
     "text": [
      "Root found: 0.5301809438810997 after 7 iterations\n",
      "n= 0, E = 0.5301809438810997\n",
      "Root found: 1.8998433004954542 after 8 iterations\n",
      "n= 1, E = 1.8998433004954542\n",
      "Root found: 3.7278972308172538 after 7 iterations\n",
      "n= 2, E = 3.7278972308172538\n",
      "Root found: 5.822551223677204 after 8 iterations\n",
      "n= 3, E = 5.822551223677204\n",
      "Root found: 8.131390192920488 after 7 iterations\n",
      "n= 4, E = 8.131390192920488\n",
      "Root found: 10.62023462350088 after 6 iterations\n",
      "n= 5, E = 10.62023462350088\n",
      "Root found: 13.266253272769166 after 6 iterations\n",
      "n= 6, E = 13.266253272769166\n"
     ]
    }
   ],
   "source": [
    "V_0 = 1\n",
    "global_a = 2**(1/4)\n",
    "global_N = 3\n",
    "global_xi = -global_N*global_a\n",
    "global_xf =  global_N*global_a\n",
    "global_init_psi = 0\n",
    "global_TISE_steps = 100\n",
    "inital_dpsidx = 1#e-2\n",
    "\n",
    "def RK4_TISE(guess_energy: float):\n",
    "    ''' \n",
    "    Approximates the eigen energy of the TISE given the harmonic potential: V(x) = V_0 (x/a)^2\n",
    "    '''\n",
    "    def local_TISE(phase_vector:np.ndarray, position: float):\n",
    "        ''' \n",
    "        calculates the derivatives of psi:\n",
    "        d/dx(psi) = phi, d/dx(phi) = 2 (V - E) psi\n",
    "        '''\n",
    "        dpsidx = phase_vector[0] # derivative of psi: d/dx(psi)\n",
    "        psi = phase_vector[1] \n",
    "        V = V_0 * position**4/global_a**4 \n",
    "        dphidx = 2 * (V-guess_energy) * psi #d/dx(phi) = 2 (V - E) psi\n",
    "        return np.array([dphidx, dpsidx])\n",
    "    \n",
    "    params_vector = [global_xi, inital_dpsidx, global_init_psi]\n",
    "\n",
    "    # Solve using RK4 with TISE_with_energy\n",
    "    solutions, _ = RK4_approx(local_TISE, params_vector, global_xf, global_TISE_steps)\n",
    "    \n",
    "    # Return the value of psi at the boundary (x = global_xf)\n",
    "    return solutions[-1][1]\n",
    "\n",
    "# Define initial guesses and tolerance\n",
    "tol = 1e-4 # if method doesnt converge, lower \n",
    "energy_guess_list = [ [0,0.5], [1.5,2.0], [3.3,3.8], [5.0, 6], [7.8, 8.3], [10.4, 10.7], [13.0,13.4] ] # 8.1, 10.6 , 13.2\n",
    "root_found__energies = []\n",
    "for idx,energy_guess in enumerate(energy_guess_list):\n",
    "# Solve the TISE\n",
    "    energy_root_solution = secant_method(RK4_TISE, energy_guess, tol)\n",
    "    root_found__energies.append(energy_root_solution)\n",
    "    print(f\"n= {idx}, E = {energy_root_solution}\")"
   ]
  },
  {
   "cell_type": "markdown",
   "metadata": {},
   "source": [
    "#### (c) (20 points) Compare your numerical energy eigenvalues with the WKB energies and plot the results as a function of the excitation number n. Discuss the agreement as a function of n.\n"
   ]
  },
  {
   "cell_type": "code",
   "execution_count": null,
   "metadata": {},
   "outputs": [
    {
     "data": {
      "image/png": "[encoded data removed]",
      "text/plain": [
       "<Figure size 640x480 with 1 Axes>"
      ]
     },
     "metadata": {},
     "output_type": "display_data"
    }
   ],
   "source": [
    "# plotting the energies from root finding and wkb as a function of n:\n",
    "n_states = [0,1,2,3,4,5,6]\n",
    "plt.title(\"Energy Approximations for Anharmonic Potential\")\n",
    "plt.scatter(n_states, root_found__energies, color='red', label=rf\"E_root\", s = 70)\n",
    "plt.scatter(n_states, wkb_approx_energies, color='blue', label=rf\"E_WKB\", s= 22, marker='^')\n",
    "plt.xlabel(\"State, n\")\n",
    "plt.ylabel(rf\"Energy\")\n",
    "# plt.xlim(global_xi,global_xf)\n",
    "plt.legend(loc='upper right')\n",
    "plt.grid()\n",
    "plt.show()"
   ]
  },
  {
   "cell_type": "markdown",
   "metadata": {},
   "source": [
    "### In my results, the RK4 method most disagrees with the WKB approximation for the ground state, for the ground state, WKB predicts $0.4336$ and RK4 predicts $0.53018$"
   ]
  }
 ],
 "metadata": {
  "kernelspec": {
   "display_name": "Phys377",
   "language": "python",
   "name": "python3"
  },
  "language_info": {
   "codemirror_mode": {
    "name": "ipython",
    "version": 3
   },
   "file_extension": ".py",
   "mimetype": "text/x-python",
   "name": "python",
   "nbconvert_exporter": "python",
   "pygments_lexer": "ipython3",
   "version": "3.11.11"
  }
 },
 "nbformat": 4,
 "nbformat_minor": 2
}
